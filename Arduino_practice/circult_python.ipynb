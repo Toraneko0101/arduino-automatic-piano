{
 "cells": [
  {
   "cell_type": "code",
   "execution_count": 3,
   "metadata": {},
   "outputs": [
    {
     "data": {
      "image/svg+xml": [
       "<svg xmlns=\"http://www.w3.org/2000/svg\" xml:lang=\"en\" height=\"136.02999999999997pt\" width=\"350.8204pt\" viewBox=\"-144.0092 -21.439999999999998 350.8204 136.02999999999997\"><circle cx=\"36.288000000000004\" cy=\"-0.0\" r=\"3.888\" style=\"stroke:black;fill:none;stroke-width:2.0;\" /><circle cx=\"60.91199999999999\" cy=\"-0.0\" r=\"3.888\" style=\"stroke:black;fill:none;stroke-width:2.0;\" /><circle cx=\"97.19999999999997\" cy=\"48.599999999999994\" r=\"16.2\" style=\"stroke:black;fill:none;stroke-width:2.0;\" /><circle cx=\"-97.20000000000002\" cy=\"48.599999999999966\" r=\"16.2\" style=\"stroke:black;fill:none;stroke-width:2.0;\" /><path d=\"M 0.0,-0.0 L 32.4,-0.0 M 36.288000000000004,-9.719999999999999 L 60.91199999999999,-9.719999999999999 M 48.599999999999994,-9.719999999999999 L 48.599999999999994,-16.2 M 64.8,-0.0 L 97.19999999999999,-0.0\" style=\"stroke:black;fill:none;stroke-width:2.0;stroke-linecap:round;stroke-linejoin:round;\" /><path d=\"M 97.19999999999999,-0.0 L 97.19999999999999,32.4 L 97.19999999999999,32.4 M 97.19999999999997,64.8 L 97.19999999999997,64.8 L 97.19999999999997,97.19999999999999\" style=\"stroke:black;fill:none;stroke-width:2.0;stroke-linecap:round;stroke-linejoin:round;\" /><path d=\"M 97.19999999999997,97.19999999999999 L 64.79999999999998,97.19999999999999 L 62.09999999999999,105.3 L 56.69999999999998,89.1 L 51.29999999999999,105.3 L 45.899999999999984,89.1 L 40.499999999999986,105.3 L 35.09999999999999,89.1 L 32.399999999999984,97.19999999999997 L -1.4388490399142028e-14,97.19999999999997\" style=\"stroke:black;fill:none;stroke-width:2.0;stroke-linecap:round;stroke-linejoin:round;\" /><path d=\"M -1.4388490399142028e-14,97.19999999999997 L -45.562500000000014,97.19999999999997 M -51.63750000000001,97.19999999999997 L -97.20000000000002,97.19999999999996\" style=\"stroke:black;fill:none;stroke-width:2.0;stroke-linecap:round;stroke-linejoin:round;\" /><path d=\"M -51.63750000000001,85.04999999999997 L -51.63750000000001,109.34999999999997\" style=\"stroke:black;fill:none;stroke-width:2.0;stroke-linecap:round;stroke-linejoin:round;\" /><path d=\"M -45.562500000000014,91.12499999999999 L -45.562500000000014,103.27499999999998\" style=\"stroke:black;fill:none;stroke-width:2.0;stroke-linecap:round;stroke-linejoin:round;\" /><path d=\"M -97.20000000000002,97.19999999999996 L -97.20000000000002,64.79999999999997 L -97.20000000000002,64.79999999999997 M -97.20000000000002,32.39999999999997 L -97.20000000000002,32.39999999999997 L -97.20000000000002,-2.8776980798284056e-14\" style=\"stroke:black;fill:none;stroke-width:2.0;stroke-linecap:round;stroke-linejoin:round;\" /><path d=\"M -97.20000000000002,-2.8776980798284056e-14 L -48.600000000000016,-2.8776980798284056e-14 L -1.4388490399142028e-14,-2.8776980798284056e-14\" style=\"stroke:black;fill:none;stroke-width:2.0;stroke-linecap:round;stroke-linejoin:round;\" /><text x=\"116.63999999999999\" y=\"32.49999999999999\" fill=\"black\" font-size=\"14.0\" font-family=\"sans\" text-anchor=\"start\" transform=\"rotate(0 116.63999999999999 46.49999999999999)\"><tspan x=\"116.63999999999999\" dy=\"14.0\">pinMode(10,</tspan><tspan x=\"116.63999999999999\" dy=\"14.0\">INPUT)</tspan></text><text x=\"48.59999999999998\" y=\"72.55999999999999\" fill=\"black\" font-size=\"14.0\" font-family=\"sans\" text-anchor=\"middle\" transform=\"rotate(0 48.59999999999998 83.75999999999999)\"><tspan x=\"48.59999999999998\" dy=\"11.200000000000001\">100MΩ</tspan></text><text x=\"-116.64000000000001\" y=\"40.89999999999996\" fill=\"black\" font-size=\"14.0\" font-family=\"sans\" text-anchor=\"end\" transform=\"rotate(0 -116.64000000000001 46.499999999999964)\"><tspan x=\"-116.64000000000001\" dy=\"11.200000000000001\">5V</tspan></text></svg>"
      ],
      "text/plain": [
       "<svg xmlns=\"http://www.w3.org/2000/svg\" xml:lang=\"en\" height=\"136.02999999999997pt\" width=\"350.8204pt\" viewBox=\"-144.0092 -21.439999999999998 350.8204 136.02999999999997\"><circle cx=\"36.288000000000004\" cy=\"-0.0\" r=\"3.888\" style=\"stroke:black;fill:none;stroke-width:2.0;\" /><circle cx=\"60.91199999999999\" cy=\"-0.0\" r=\"3.888\" style=\"stroke:black;fill:none;stroke-width:2.0;\" /><circle cx=\"97.19999999999997\" cy=\"48.599999999999994\" r=\"16.2\" style=\"stroke:black;fill:none;stroke-width:2.0;\" /><circle cx=\"-97.20000000000002\" cy=\"48.599999999999966\" r=\"16.2\" style=\"stroke:black;fill:none;stroke-width:2.0;\" /><path d=\"M 0.0,-0.0 L 32.4,-0.0 M 36.288000000000004,-9.719999999999999 L 60.91199999999999,-9.719999999999999 M 48.599999999999994,-9.719999999999999 L 48.599999999999994,-16.2 M 64.8,-0.0 L 97.19999999999999,-0.0\" style=\"stroke:black;fill:none;stroke-width:2.0;stroke-linecap:round;stroke-linejoin:round;\" /><path d=\"M 97.19999999999999,-0.0 L 97.19999999999999,32.4 L 97.19999999999999,32.4 M 97.19999999999997,64.8 L 97.19999999999997,64.8 L 97.19999999999997,97.19999999999999\" style=\"stroke:black;fill:none;stroke-width:2.0;stroke-linecap:round;stroke-linejoin:round;\" /><path d=\"M 97.19999999999997,97.19999999999999 L 64.79999999999998,97.19999999999999 L 62.09999999999999,105.3 L 56.69999999999998,89.1 L 51.29999999999999,105.3 L 45.899999999999984,89.1 L 40.499999999999986,105.3 L 35.09999999999999,89.1 L 32.399999999999984,97.19999999999997 L -1.4388490399142028e-14,97.19999999999997\" style=\"stroke:black;fill:none;stroke-width:2.0;stroke-linecap:round;stroke-linejoin:round;\" /><path d=\"M -1.4388490399142028e-14,97.19999999999997 L -45.562500000000014,97.19999999999997 M -51.63750000000001,97.19999999999997 L -97.20000000000002,97.19999999999996\" style=\"stroke:black;fill:none;stroke-width:2.0;stroke-linecap:round;stroke-linejoin:round;\" /><path d=\"M -51.63750000000001,85.04999999999997 L -51.63750000000001,109.34999999999997\" style=\"stroke:black;fill:none;stroke-width:2.0;stroke-linecap:round;stroke-linejoin:round;\" /><path d=\"M -45.562500000000014,91.12499999999999 L -45.562500000000014,103.27499999999998\" style=\"stroke:black;fill:none;stroke-width:2.0;stroke-linecap:round;stroke-linejoin:round;\" /><path d=\"M -97.20000000000002,97.19999999999996 L -97.20000000000002,64.79999999999997 L -97.20000000000002,64.79999999999997 M -97.20000000000002,32.39999999999997 L -97.20000000000002,32.39999999999997 L -97.20000000000002,-2.8776980798284056e-14\" style=\"stroke:black;fill:none;stroke-width:2.0;stroke-linecap:round;stroke-linejoin:round;\" /><path d=\"M -97.20000000000002,-2.8776980798284056e-14 L -48.600000000000016,-2.8776980798284056e-14 L -1.4388490399142028e-14,-2.8776980798284056e-14\" style=\"stroke:black;fill:none;stroke-width:2.0;stroke-linecap:round;stroke-linejoin:round;\" /><text x=\"116.63999999999999\" y=\"32.49999999999999\" fill=\"black\" font-size=\"14.0\" font-family=\"sans\" text-anchor=\"start\" transform=\"rotate(0 116.63999999999999 46.49999999999999)\"><tspan x=\"116.63999999999999\" dy=\"14.0\">pinMode(10,</tspan><tspan x=\"116.63999999999999\" dy=\"14.0\">INPUT)</tspan></text><text x=\"48.59999999999998\" y=\"72.55999999999999\" fill=\"black\" font-size=\"14.0\" font-family=\"sans\" text-anchor=\"middle\" transform=\"rotate(0 48.59999999999998 83.75999999999999)\"><tspan x=\"48.59999999999998\" dy=\"11.200000000000001\">100MΩ</tspan></text><text x=\"-116.64000000000001\" y=\"40.89999999999996\" fill=\"black\" font-size=\"14.0\" font-family=\"sans\" text-anchor=\"end\" transform=\"rotate(0 -116.64000000000001 46.499999999999964)\"><tspan x=\"-116.64000000000001\" dy=\"11.200000000000001\">5V</tspan></text></svg>"
      ]
     },
     "metadata": {},
     "output_type": "display_data"
    }
   ],
   "source": [
    "import schemdraw\n",
    "import schemdraw.elements as elm\n",
    "with schemdraw.Drawing(file='images/circuit1.svg') as d:\n",
    "    #d += elm.Resistor().label('100KΩ')\n",
    "    d += elm.Button()\n",
    "    d += elm.Source().down().label(\"pinMode(10,\\nINPUT)\", loc='bottom')\n",
    "    #d += elm.Capacitor().down()\n",
    "    d += elm.Resistor().left().label('100M$\\Omega$')\n",
    "    d += elm.BatteryCell().reverse()\n",
    "    #d += elm.Ground()\n",
    "    d += elm.Source().up().label('5V')\n",
    "    d += elm.Line().right()"
   ]
  },
  {
   "cell_type": "code",
   "execution_count": 5,
   "metadata": {},
   "outputs": [
    {
     "data": {
      "image/svg+xml": [
       "<svg xmlns=\"http://www.w3.org/2000/svg\" xml:lang=\"en\" height=\"146.11pt\" width=\"353.8336pt\" viewBox=\"-122.67920000000001 -31.520000000000028 353.8336 146.11\"><circle cx=\"36.288000000000004\" cy=\"-0.0\" r=\"3.888\" style=\"stroke:black;fill:none;stroke-width:2.0;\" /><circle cx=\"60.91199999999999\" cy=\"-0.0\" r=\"3.888\" style=\"stroke:black;fill:none;stroke-width:2.0;\" /><circle cx=\"97.19999999999997\" cy=\"48.599999999999994\" r=\"16.2\" style=\"stroke:black;fill:none;stroke-width:2.0;\" /><path d=\"M 0.0,-0.0 L 32.4,-0.0 M 36.288000000000004,-9.719999999999999 L 60.91199999999999,-9.719999999999999 M 48.599999999999994,-9.719999999999999 L 48.599999999999994,-16.2 M 64.8,-0.0 L 97.19999999999999,-0.0\" style=\"stroke:black;fill:none;stroke-width:2.0;stroke-linecap:round;stroke-linejoin:round;\" /><path d=\"M 97.19999999999999,-0.0 L 97.19999999999999,32.4 L 97.19999999999999,32.4 M 97.19999999999997,64.8 L 97.19999999999997,64.8 L 97.19999999999997,97.19999999999999\" style=\"stroke:black;fill:none;stroke-width:2.0;stroke-linecap:round;stroke-linejoin:round;\" /><path d=\"M 97.19999999999997,97.19999999999999 L 64.79999999999998,97.19999999999999 L 62.09999999999999,105.3 L 56.69999999999998,89.1 L 51.29999999999999,105.3 L 45.899999999999984,89.1 L 40.499999999999986,105.3 L 35.09999999999999,89.1 L 32.399999999999984,97.19999999999997 L -1.4388490399142028e-14,97.19999999999997\" style=\"stroke:black;fill:none;stroke-width:2.0;stroke-linecap:round;stroke-linejoin:round;\" /><path d=\"M -1.4388490399142028e-14,97.19999999999997 L -45.562500000000014,97.19999999999997 M -51.63750000000001,97.19999999999997 L -97.20000000000002,97.19999999999996\" style=\"stroke:black;fill:none;stroke-width:2.0;stroke-linecap:round;stroke-linejoin:round;\" /><path d=\"M -45.562500000000014,109.34999999999998 L -45.562500000000014,85.04999999999998\" style=\"stroke:black;fill:none;stroke-width:2.0;stroke-linecap:round;stroke-linejoin:round;\" /><path d=\"M -51.63750000000001,103.27499999999998 L -51.63750000000001,91.12499999999999\" style=\"stroke:black;fill:none;stroke-width:2.0;stroke-linecap:round;stroke-linejoin:round;\" /><path d=\"M -97.20000000000002,97.19999999999996 L -97.20000000000002,48.599999999999966 L -97.20000000000002,-2.8776980798284056e-14\" style=\"stroke:black;fill:none;stroke-width:2.0;stroke-linecap:round;stroke-linejoin:round;\" /><path d=\"M -97.20000000000002,-2.8776980798284056e-14 L -97.20000000000002,12.95999999999997 L -105.30000000000001,12.95999999999997 L -89.10000000000001,12.95999999999997 M -102.87,16.84799999999997 L -91.53000000000002,16.84799999999997 M -98.82000000000001,20.735999999999972 L -95.58000000000001,20.735999999999972\" style=\"stroke:black;fill:none;stroke-width:2.0;stroke-linecap:round;stroke-linejoin:round;\" /><path d=\"M -97.20000000000002,-2.8776980798284056e-14 L -48.600000000000016,-2.8776980798284056e-14 L -1.4388490399142028e-14,-2.8776980798284056e-14\" style=\"stroke:black;fill:none;stroke-width:2.0;stroke-linecap:round;stroke-linejoin:round;\" /><text x=\"116.63999999999999\" y=\"32.49999999999999\" fill=\"black\" font-size=\"14.0\" font-family=\"sans\" text-anchor=\"start\" transform=\"rotate(0 116.63999999999999 46.49999999999999)\"><tspan x=\"116.63999999999999\" dy=\"14.0\">pinMode(10,</tspan><tspan x=\"116.63999999999999\" dy=\"14.0\">INPUT_PULLUP)</tspan></text><text x=\"48.59999999999998\" y=\"72.55999999999999\" fill=\"black\" font-size=\"14.0\" font-family=\"sans\" text-anchor=\"middle\" transform=\"rotate(0 48.59999999999998 83.75999999999999)\"><tspan x=\"48.59999999999998\" dy=\"11.200000000000001\">10kΩ</tspan></text><text x=\"-97.20000000000002\" y=\"-16.540000000000028\" fill=\"black\" font-size=\"14.0\" font-family=\"sans\" text-anchor=\"middle\" transform=\"rotate(0 -97.20000000000002 -5.340000000000028)\"><tspan x=\"-97.20000000000002\" dy=\"11.200000000000001\">GND</tspan></text></svg>"
      ],
      "text/plain": [
       "<svg xmlns=\"http://www.w3.org/2000/svg\" xml:lang=\"en\" height=\"146.11pt\" width=\"353.8336pt\" viewBox=\"-122.67920000000001 -31.520000000000028 353.8336 146.11\"><circle cx=\"36.288000000000004\" cy=\"-0.0\" r=\"3.888\" style=\"stroke:black;fill:none;stroke-width:2.0;\" /><circle cx=\"60.91199999999999\" cy=\"-0.0\" r=\"3.888\" style=\"stroke:black;fill:none;stroke-width:2.0;\" /><circle cx=\"97.19999999999997\" cy=\"48.599999999999994\" r=\"16.2\" style=\"stroke:black;fill:none;stroke-width:2.0;\" /><path d=\"M 0.0,-0.0 L 32.4,-0.0 M 36.288000000000004,-9.719999999999999 L 60.91199999999999,-9.719999999999999 M 48.599999999999994,-9.719999999999999 L 48.599999999999994,-16.2 M 64.8,-0.0 L 97.19999999999999,-0.0\" style=\"stroke:black;fill:none;stroke-width:2.0;stroke-linecap:round;stroke-linejoin:round;\" /><path d=\"M 97.19999999999999,-0.0 L 97.19999999999999,32.4 L 97.19999999999999,32.4 M 97.19999999999997,64.8 L 97.19999999999997,64.8 L 97.19999999999997,97.19999999999999\" style=\"stroke:black;fill:none;stroke-width:2.0;stroke-linecap:round;stroke-linejoin:round;\" /><path d=\"M 97.19999999999997,97.19999999999999 L 64.79999999999998,97.19999999999999 L 62.09999999999999,105.3 L 56.69999999999998,89.1 L 51.29999999999999,105.3 L 45.899999999999984,89.1 L 40.499999999999986,105.3 L 35.09999999999999,89.1 L 32.399999999999984,97.19999999999997 L -1.4388490399142028e-14,97.19999999999997\" style=\"stroke:black;fill:none;stroke-width:2.0;stroke-linecap:round;stroke-linejoin:round;\" /><path d=\"M -1.4388490399142028e-14,97.19999999999997 L -45.562500000000014,97.19999999999997 M -51.63750000000001,97.19999999999997 L -97.20000000000002,97.19999999999996\" style=\"stroke:black;fill:none;stroke-width:2.0;stroke-linecap:round;stroke-linejoin:round;\" /><path d=\"M -45.562500000000014,109.34999999999998 L -45.562500000000014,85.04999999999998\" style=\"stroke:black;fill:none;stroke-width:2.0;stroke-linecap:round;stroke-linejoin:round;\" /><path d=\"M -51.63750000000001,103.27499999999998 L -51.63750000000001,91.12499999999999\" style=\"stroke:black;fill:none;stroke-width:2.0;stroke-linecap:round;stroke-linejoin:round;\" /><path d=\"M -97.20000000000002,97.19999999999996 L -97.20000000000002,48.599999999999966 L -97.20000000000002,-2.8776980798284056e-14\" style=\"stroke:black;fill:none;stroke-width:2.0;stroke-linecap:round;stroke-linejoin:round;\" /><path d=\"M -97.20000000000002,-2.8776980798284056e-14 L -97.20000000000002,12.95999999999997 L -105.30000000000001,12.95999999999997 L -89.10000000000001,12.95999999999997 M -102.87,16.84799999999997 L -91.53000000000002,16.84799999999997 M -98.82000000000001,20.735999999999972 L -95.58000000000001,20.735999999999972\" style=\"stroke:black;fill:none;stroke-width:2.0;stroke-linecap:round;stroke-linejoin:round;\" /><path d=\"M -97.20000000000002,-2.8776980798284056e-14 L -48.600000000000016,-2.8776980798284056e-14 L -1.4388490399142028e-14,-2.8776980798284056e-14\" style=\"stroke:black;fill:none;stroke-width:2.0;stroke-linecap:round;stroke-linejoin:round;\" /><text x=\"116.63999999999999\" y=\"32.49999999999999\" fill=\"black\" font-size=\"14.0\" font-family=\"sans\" text-anchor=\"start\" transform=\"rotate(0 116.63999999999999 46.49999999999999)\"><tspan x=\"116.63999999999999\" dy=\"14.0\">pinMode(10,</tspan><tspan x=\"116.63999999999999\" dy=\"14.0\">INPUT_PULLUP)</tspan></text><text x=\"48.59999999999998\" y=\"72.55999999999999\" fill=\"black\" font-size=\"14.0\" font-family=\"sans\" text-anchor=\"middle\" transform=\"rotate(0 48.59999999999998 83.75999999999999)\"><tspan x=\"48.59999999999998\" dy=\"11.200000000000001\">10kΩ</tspan></text><text x=\"-97.20000000000002\" y=\"-16.540000000000028\" fill=\"black\" font-size=\"14.0\" font-family=\"sans\" text-anchor=\"middle\" transform=\"rotate(0 -97.20000000000002 -5.340000000000028)\"><tspan x=\"-97.20000000000002\" dy=\"11.200000000000001\">GND</tspan></text></svg>"
      ]
     },
     "metadata": {},
     "output_type": "display_data"
    }
   ],
   "source": [
    "#プルアップ抵抗\n",
    "import schemdraw\n",
    "import schemdraw.elements as elm\n",
    "with schemdraw.Drawing(file='images/circuit2.svg') as d:\n",
    "    d += elm.Button()\n",
    "    d += elm.Source().down().label(\"pinMode(10,\\nINPUT_PULLUP)\", loc='bottom')\n",
    "    #d += elm.Capacitor().down()\n",
    "    d += elm.Resistor().left().label('10k$\\Omega$')\n",
    "    d += elm.BatteryCell()\n",
    "    d += elm.Line().up()\n",
    "    d += elm.Ground().label('GND')\n",
    "    #d += elm.Source().up().label('5V')\n",
    "    d += elm.Line().right()"
   ]
  },
  {
   "cell_type": "code",
   "execution_count": null,
   "metadata": {},
   "outputs": [],
   "source": []
  }
 ],
 "metadata": {
  "kernelspec": {
   "display_name": ".venv",
   "language": "python",
   "name": "python3"
  },
  "language_info": {
   "codemirror_mode": {
    "name": "ipython",
    "version": 3
   },
   "file_extension": ".py",
   "mimetype": "text/x-python",
   "name": "python",
   "nbconvert_exporter": "python",
   "pygments_lexer": "ipython3",
   "version": "3.11.4"
  },
  "orig_nbformat": 4
 },
 "nbformat": 4,
 "nbformat_minor": 2
}
