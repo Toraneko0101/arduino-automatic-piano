{
 "cells": [
  {
   "cell_type": "code",
   "execution_count": 2,
   "metadata": {},
   "outputs": [
    {
     "ename": "ModuleNotFoundError",
     "evalue": "No module named 'SchemDraw'",
     "output_type": "error",
     "traceback": [
      "\u001b[1;31m---------------------------------------------------------------------------\u001b[0m",
      "\u001b[1;31mModuleNotFoundError\u001b[0m                       Traceback (most recent call last)",
      "\u001b[1;32mc:\\test_gcc\\gcc1\\arduino_test\\arduino-automatic-piano\\circult_python.ipynb セル 1\u001b[0m line \u001b[0;36m1\n\u001b[1;32m----> <a href='vscode-notebook-cell:/c%3A/test_gcc/gcc1/arduino_test/arduino-automatic-piano/circult_python.ipynb#W0sZmlsZQ%3D%3D?line=0'>1</a>\u001b[0m \u001b[39mimport\u001b[39;00m \u001b[39mSchemDraw\u001b[39;00m\n\u001b[0;32m      <a href='vscode-notebook-cell:/c%3A/test_gcc/gcc1/arduino_test/arduino-automatic-piano/circult_python.ipynb#W0sZmlsZQ%3D%3D?line=1'>2</a>\u001b[0m \u001b[39mimport\u001b[39;00m \u001b[39mSchemDraw\u001b[39;00m\u001b[39m.\u001b[39;00m\u001b[39melements\u001b[39;00m \u001b[39mas\u001b[39;00m \u001b[39melm\u001b[39;00m\n\u001b[0;32m      <a href='vscode-notebook-cell:/c%3A/test_gcc/gcc1/arduino_test/arduino-automatic-piano/circult_python.ipynb#W0sZmlsZQ%3D%3D?line=3'>4</a>\u001b[0m d \u001b[39m=\u001b[39m SchemDraw\u001b[39m.\u001b[39mDrawing()\n",
      "\u001b[1;31mModuleNotFoundError\u001b[0m: No module named 'SchemDraw'"
     ]
    }
   ],
   "source": [
    "import SchemDraw\n",
    "import SchemDraw.elements as elm\n",
    "\n",
    "d = SchemDraw.Drawing()\n",
    "d.add(elm.Resistor(label='100K$\\Omega$'))\n",
    "d.add(elm.Capacitor(d='down', botlabel='0.1$\\mu$F'))\n",
    "d.add(elm.Line(d='left'))\n",
    "d.add(elm.Ground)\n",
    "d.add(elm.SourceV(d='up', label='10V'))\n",
    "d.draw()\n",
    "d.save('schematic.svg')"
   ]
  },
  {
   "cell_type": "code",
   "execution_count": null,
   "metadata": {},
   "outputs": [],
   "source": []
  }
 ],
 "metadata": {
  "kernelspec": {
   "display_name": ".venv",
   "language": "python",
   "name": "python3"
  },
  "language_info": {
   "codemirror_mode": {
    "name": "ipython",
    "version": 3
   },
   "file_extension": ".py",
   "mimetype": "text/x-python",
   "name": "python",
   "nbconvert_exporter": "python",
   "pygments_lexer": "ipython3",
   "version": "3.11.4"
  },
  "orig_nbformat": 4
 },
 "nbformat": 4,
 "nbformat_minor": 2
}
